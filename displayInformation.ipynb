{
 "cells": [
  {
   "cell_type": "code",
   "execution_count": 2,
   "id": "04904d7c",
   "metadata": {},
   "outputs": [
    {
     "name": "stdout",
     "output_type": "stream",
     "text": [
      "Họ và tên: Nguyễn Thị Thu Vân\n",
      "Ngày sinh: 27/4/1985\n",
      "Địa chỉ: 231 East Kennedy Dr, EHT, NJ, 08234\n",
      "Mục đích đến với khoá học Python: Học tập và phát triển kỹ năng lập trình\n"
     ]
    }
   ],
   "source": [
    "print(\"Họ và tên: Nguyễn Thị Thu Vân\")\n",
    "print(\"Ngày sinh: 27/4/1985\")\n",
    "print(\"Địa chỉ: 231 East Kennedy Dr, EHT, NJ, 08234\")\n",
    "print(\"Mục đích đến với khoá học Python: Học tập và phát triển kỹ năng lập trình\")"
   ]
  },
  {
   "cell_type": "code",
   "execution_count": null,
   "id": "b4f2a99a",
   "metadata": {},
   "outputs": [],
   "source": []
  }
 ],
 "metadata": {
  "kernelspec": {
   "display_name": "Python 3 (ipykernel)",
   "language": "python",
   "name": "python3"
  },
  "language_info": {
   "codemirror_mode": {
    "name": "ipython",
    "version": 3
   },
   "file_extension": ".py",
   "mimetype": "text/x-python",
   "name": "python",
   "nbconvert_exporter": "python",
   "pygments_lexer": "ipython3",
   "version": "3.9.13"
  }
 },
 "nbformat": 4,
 "nbformat_minor": 5
}
