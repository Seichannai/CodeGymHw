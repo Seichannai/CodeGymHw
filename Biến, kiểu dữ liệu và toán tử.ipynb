{
 "cells": [
  {
   "cell_type": "code",
   "execution_count": 8,
   "id": "437e17d9",
   "metadata": {},
   "outputs": [],
   "source": [
    "#thực hành vẽ mặt cười\n",
    "\n",
    "import turtle\n",
    "\n",
    "#define pen size\n",
    "turtle.pensize(5)\n",
    "\n",
    "#define pen color\n",
    "turtle.pencolor(\"blue\")\n",
    "\n",
    "#for outer bigger circle\n",
    "facesize = 200\n",
    "turtle.penup()\n",
    "turtle.goto(0,-200)\n",
    "turtle.pendown()\n",
    "turtle.circle(facesize)\n",
    "\n",
    "#for eyes, red color\n",
    "turtle.fillcolor (\"red\")\n",
    "turtle.penup()\n",
    "turtle.goto(-100,50)\n",
    "turtle.pendown()\n",
    "\n",
    "#define size for eyes\n",
    "eye_size = 17.5\n",
    "\n",
    "turtle.begin_fill()\n",
    "turtle.circle(eye_size)\n",
    "turtle.end_fill()\n",
    "turtle.penup()\n",
    "\n",
    "turtle.goto(100,50)\n",
    "turtle.pendown()\n",
    "turtle.begin_fill()\n",
    "turtle.circle(eye_size)\n",
    "turtle.end_fill()\n",
    "\n",
    "#for nose\n",
    "turtle.penup()\n",
    "turtle.goto(0,50)\n",
    "turtle.pendown()\n",
    "turtle.circle(-70, steps=3)\n",
    "\n",
    "#for smile\n",
    "turtle.penup()\n",
    "turtle.goto(-100,-70)\n",
    "turtle.pendown()\n",
    "turtle.right(90)\n",
    "turtle.circle(100,180)\n",
    "turtle.mainloop()"
   ]
  },
  {
   "cell_type": "code",
   "execution_count": 11,
   "id": "1cd00209",
   "metadata": {},
   "outputs": [
    {
     "name": "stdout",
     "output_type": "stream",
     "text": [
      "Enter the lenght of the side a: 10\n",
      "Enter the lenght of the side b: 12\n",
      "Enter the lenght of the side c: 15\n",
      " Area of the triangle is  59.81168364124187\n"
     ]
    }
   ],
   "source": [
    "#thực hành tính diện tích hình tam giác\n",
    "\n",
    "import math\n",
    "\n",
    "a = float(input(\"Enter the lenght of the side a: \"))\n",
    "b = float(input(\"Enter the lenght of the side b: \"))\n",
    "c = float(input(\"Enter the lenght of the side c: \"))\n",
    "\n",
    "#tính chu vi hình tam giác\n",
    "s = (a+b+c)/2\n",
    "area = math.sqrt(s*(s-a)*(s-b)*(s-c))\n",
    "print(\" Area of the triangle is \", area)\n"
   ]
  },
  {
   "cell_type": "code",
   "execution_count": 13,
   "id": "2404dc9a",
   "metadata": {},
   "outputs": [
    {
     "name": "stdout",
     "output_type": "stream",
     "text": [
      "Enter degree of celsius: 32\n",
      "The degree of 32.0 Celsius = 89.6 Fahrenheit\n"
     ]
    }
   ],
   "source": [
    "# chuyển đổi nhiệt độ\n",
    "\n",
    "import math\n",
    "\n",
    "c = float(input(\"Enter degree of celsius: \"))\n",
    "f = (c*1.8) + 32\n",
    "print(f\"The degree of {c} Celsius = {f} Fahrenheit\")"
   ]
  },
  {
   "cell_type": "code",
   "execution_count": null,
   "id": "870f695e",
   "metadata": {},
   "outputs": [],
   "source": []
  }
 ],
 "metadata": {
  "kernelspec": {
   "display_name": "Python 3 (ipykernel)",
   "language": "python",
   "name": "python3"
  },
  "language_info": {
   "codemirror_mode": {
    "name": "ipython",
    "version": 3
   },
   "file_extension": ".py",
   "mimetype": "text/x-python",
   "name": "python",
   "nbconvert_exporter": "python",
   "pygments_lexer": "ipython3",
   "version": "3.9.13"
  }
 },
 "nbformat": 4,
 "nbformat_minor": 5
}
